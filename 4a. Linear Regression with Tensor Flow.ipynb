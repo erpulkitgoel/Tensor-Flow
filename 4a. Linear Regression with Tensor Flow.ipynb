{
 "cells": [
  {
   "cell_type": "markdown",
   "metadata": {},
   "source": [
    "# Introduction\n",
    " - Matrix Inverse Method\n",
    " - TensorFlow Way of Regression\n",
    " - Lasso & Ridge Regression\n",
    " - Elastic Net Regression"
   ]
  },
  {
   "cell_type": "code",
   "execution_count": 25,
   "metadata": {},
   "outputs": [],
   "source": [
    "import matplotlib.pyplot as plt\n",
    "import numpy as np\n",
    "import tensorflow as tf"
   ]
  },
  {
   "cell_type": "code",
   "execution_count": 3,
   "metadata": {},
   "outputs": [],
   "source": [
    "sess = tf.Session()\n",
    "x_vals = np.linspace(0,10,100)"
   ]
  },
  {
   "cell_type": "code",
   "execution_count": 4,
   "metadata": {},
   "outputs": [],
   "source": [
    "y_vals = x_vals + np.random.normal(0,1,100)"
   ]
  },
  {
   "cell_type": "code",
   "execution_count": 5,
   "metadata": {},
   "outputs": [],
   "source": [
    "x_vals_colmn = x_vals[:,np.newaxis]"
   ]
  },
  {
   "cell_type": "code",
   "execution_count": 6,
   "metadata": {},
   "outputs": [],
   "source": [
    "ones_column = np.repeat(1,100)[:,np.newaxis]"
   ]
  },
  {
   "cell_type": "code",
   "execution_count": 7,
   "metadata": {},
   "outputs": [],
   "source": [
    "A = np.column_stack((x_vals_colmn,ones_column))"
   ]
  },
  {
   "cell_type": "code",
   "execution_count": 8,
   "metadata": {},
   "outputs": [],
   "source": [
    "b = y_vals[:, np.newaxis]"
   ]
  },
  {
   "cell_type": "code",
   "execution_count": 9,
   "metadata": {},
   "outputs": [],
   "source": [
    "A_tensor = tf.constant(A)"
   ]
  },
  {
   "cell_type": "code",
   "execution_count": 10,
   "metadata": {},
   "outputs": [],
   "source": [
    "b_tensor = tf.constant(b)"
   ]
  },
  {
   "cell_type": "code",
   "execution_count": 11,
   "metadata": {},
   "outputs": [],
   "source": [
    "tA_A = tf.matmul(tf.transpose(A_tensor),A_tensor)"
   ]
  },
  {
   "cell_type": "code",
   "execution_count": 13,
   "metadata": {},
   "outputs": [],
   "source": [
    "tA_A_inv = tf.matrix_inverse(tA_A) "
   ]
  },
  {
   "cell_type": "code",
   "execution_count": 14,
   "metadata": {},
   "outputs": [],
   "source": [
    "product = tf.matmul(tA_A_inv, tf.transpose(A_tensor))"
   ]
  },
  {
   "cell_type": "code",
   "execution_count": 15,
   "metadata": {},
   "outputs": [],
   "source": [
    "solution = tf.matmul(product,b_tensor)"
   ]
  },
  {
   "cell_type": "code",
   "execution_count": 16,
   "metadata": {},
   "outputs": [],
   "source": [
    "solution_eval = sess.run(solution)"
   ]
  },
  {
   "cell_type": "code",
   "execution_count": 17,
   "metadata": {},
   "outputs": [
    {
     "data": {
      "text/plain": [
       "0.9777879596029917"
      ]
     },
     "execution_count": 17,
     "metadata": {},
     "output_type": "execute_result"
    }
   ],
   "source": [
    "slope = solution_eval[0][0]\n",
    "slope"
   ]
  },
  {
   "cell_type": "code",
   "execution_count": 18,
   "metadata": {},
   "outputs": [],
   "source": [
    "y_intercept = solution_eval[1][0]"
   ]
  },
  {
   "cell_type": "code",
   "execution_count": 19,
   "metadata": {},
   "outputs": [
    {
     "data": {
      "text/plain": [
       "0.24150150551992225"
      ]
     },
     "execution_count": 19,
     "metadata": {},
     "output_type": "execute_result"
    }
   ],
   "source": [
    "y_intercept"
   ]
  },
  {
   "cell_type": "code",
   "execution_count": 20,
   "metadata": {},
   "outputs": [],
   "source": [
    "bf = []\n",
    "for i in x_vals:\n",
    "    bf.append(slope*i + y_intercept)"
   ]
  },
  {
   "cell_type": "code",
   "execution_count": 26,
   "metadata": {},
   "outputs": [
    {
     "data": {
      "image/png": "[encoded data removed]",
      "text/plain": [
       "<Figure size 432x288 with 1 Axes>"
      ]
     },
     "metadata": {
      "needs_background": "light"
     },
     "output_type": "display_data"
    }
   ],
   "source": [
    "%matplotlib inline\n",
    "plt.plot(x_vals, y_vals, '.', label='Data')\n",
    "plt.plot(x_vals,bf,'r-',label='BEst Fit Line', linewidth=4)\n",
    "plt.legend(loc='upper left')\n",
    "plt.show()"
   ]
  },
  {
   "cell_type": "markdown",
   "metadata": {},
   "source": [
    "# The tensor flow way  of Linear Regression"
   ]
  },
  {
   "cell_type": "code",
   "execution_count": 28,
   "metadata": {},
   "outputs": [],
   "source": [
    "from sklearn import datasets\n",
    "from tensorflow.python.framework import ops\n",
    "ops.reset_default_graph()\n",
    "\n",
    "sess = tf.Session()\n",
    "iris = datasets.load_iris()"
   ]
  },
  {
   "cell_type": "code",
   "execution_count": 29,
   "metadata": {},
   "outputs": [],
   "source": [
    "x_vals = np.array([x[3] for x in iris.data])\n",
    "y_vals = np.array([y[0] for y in iris.data])"
   ]
  },
  {
   "cell_type": "code",
   "execution_count": 31,
   "metadata": {},
   "outputs": [],
   "source": [
    "# Declare our learning rate, batch size, placeholders, and model variables\n",
    "learning_rate = 0.05\n",
    "batch_size = 25"
   ]
  },
  {
   "cell_type": "code",
   "execution_count": 32,
   "metadata": {},
   "outputs": [],
   "source": [
    "x_data = tf.placeholder(shape=[None,1],dtype=tf.float32)\n",
    "y_target = tf.placeholder(shape=[None,1], dtype=tf.float32)"
   ]
  },
  {
   "cell_type": "code",
   "execution_count": 33,
   "metadata": {},
   "outputs": [
    {
     "name": "stdout",
     "output_type": "stream",
     "text": [
      "WARNING:tensorflow:From C:\\Users\\pulkit.goel\\AppData\\Local\\Continuum\\anaconda3\\lib\\site-packages\\tensorflow\\python\\framework\\op_def_library.py:263: colocate_with (from tensorflow.python.framework.ops) is deprecated and will be removed in a future version.\n",
      "Instructions for updating:\n",
      "Colocations handled automatically by placer.\n"
     ]
    }
   ],
   "source": [
    "A = tf.Variable(tf.random_normal(shape=[1,1]))\n",
    "b = tf.Variable(tf.random_normal(shape=[1,1]))"
   ]
  },
  {
   "cell_type": "code",
   "execution_count": 34,
   "metadata": {},
   "outputs": [],
   "source": [
    "model_output = tf.add(tf.matmul(x_data,A),b)"
   ]
  },
  {
   "cell_type": "code",
   "execution_count": 35,
   "metadata": {},
   "outputs": [],
   "source": [
    "loss =tf.reduce_mean(tf.square(y_target -model_output))\n",
    "init =tf.global_variables_initializer()"
   ]
  },
  {
   "cell_type": "code",
   "execution_count": 36,
   "metadata": {},
   "outputs": [],
   "source": [
    "sess.run(init)"
   ]
  },
  {
   "cell_type": "code",
   "execution_count": 37,
   "metadata": {},
   "outputs": [],
   "source": [
    "my_out =tf.train.GradientDescentOptimizer(learning_rate)"
   ]
  },
  {
   "cell_type": "code",
   "execution_count": 38,
   "metadata": {},
   "outputs": [],
   "source": [
    "train_step = my_out.minimize(loss)"
   ]
  },
  {
   "cell_type": "code",
   "execution_count": 39,
   "metadata": {},
   "outputs": [
    {
     "name": "stdout",
     "output_type": "stream",
     "text": [
      "Step #5 A = [[2.6701367]] b = [[0.8154671]]\n",
      "Loss = 5.7280216\n",
      "Step #10 A = [[2.8403416]] b = [[1.5156611]]\n",
      "Loss = 4.5293097\n",
      "Step #15 A = [[2.7181544]] b = [[1.8425822]]\n",
      "Loss = 2.7045557\n",
      "Step #20 A = [[2.6559925]] b = [[2.249903]]\n",
      "Loss = 2.2636764\n",
      "Step #25 A = [[2.3473208]] b = [[2.3832943]]\n",
      "Loss = 1.1601686\n",
      "Step #30 A = [[2.3238983]] b = [[2.7443688]]\n",
      "Loss = 1.27813\n",
      "Step #35 A = [[2.1664667]] b = [[2.9556592]]\n",
      "Loss = 1.1716859\n",
      "Step #40 A = [[2.0678363]] b = [[3.1190546]]\n",
      "Loss = 0.9237716\n",
      "Step #45 A = [[1.905629]] b = [[3.2304614]]\n",
      "Loss = 0.7192764\n",
      "Step #50 A = [[1.8138422]] b = [[3.3864098]]\n",
      "Loss = 0.8798424\n",
      "Step #55 A = [[1.6666372]] b = [[3.4890304]]\n",
      "Loss = 0.7314772\n",
      "Step #60 A = [[1.6772575]] b = [[3.6747043]]\n",
      "Loss = 0.5499675\n",
      "Step #65 A = [[1.5754089]] b = [[3.7619696]]\n",
      "Loss = 0.76987875\n",
      "Step #70 A = [[1.5276297]] b = [[3.8490784]]\n",
      "Loss = 0.31164536\n",
      "Step #75 A = [[1.4578125]] b = [[3.9299986]]\n",
      "Loss = 0.32204354\n",
      "Step #80 A = [[1.3851981]] b = [[4.0016985]]\n",
      "Loss = 0.46225452\n",
      "Step #85 A = [[1.3748453]] b = [[4.1016617]]\n",
      "Loss = 0.43388882\n",
      "Step #90 A = [[1.2649614]] b = [[4.1386323]]\n",
      "Loss = 0.245215\n",
      "Step #95 A = [[1.2394819]] b = [[4.204525]]\n",
      "Loss = 0.25595313\n",
      "Step #100 A = [[1.1950604]] b = [[4.2522483]]\n",
      "Loss = 0.28085044\n",
      "Step #105 A = [[1.1575617]] b = [[4.2908154]]\n",
      "Loss = 0.25223628\n",
      "Step #110 A = [[1.1742831]] b = [[4.362661]]\n",
      "Loss = 0.4735603\n",
      "Step #115 A = [[1.1291887]] b = [[4.3823323]]\n",
      "Loss = 0.24663769\n",
      "Step #120 A = [[1.1399845]] b = [[4.421249]]\n",
      "Loss = 0.28274196\n",
      "Step #125 A = [[1.0929873]] b = [[4.446312]]\n",
      "Loss = 0.21880497\n",
      "Step #130 A = [[1.0929698]] b = [[4.5024986]]\n",
      "Loss = 0.19086036\n",
      "Step #135 A = [[1.0981972]] b = [[4.541021]]\n",
      "Loss = 0.2986368\n",
      "Step #140 A = [[1.0490642]] b = [[4.53947]]\n",
      "Loss = 0.24720383\n",
      "Step #145 A = [[1.0421788]] b = [[4.5591087]]\n",
      "Loss = 0.28235465\n",
      "Step #150 A = [[1.0193791]] b = [[4.5630217]]\n",
      "Loss = 0.24858086\n",
      "Step #155 A = [[1.0066439]] b = [[4.588641]]\n",
      "Loss = 0.3093005\n",
      "Step #160 A = [[0.983011]] b = [[4.588512]]\n",
      "Loss = 0.22272772\n",
      "Step #165 A = [[0.95719665]] b = [[4.5970235]]\n",
      "Loss = 0.25477466\n",
      "Step #170 A = [[0.9478822]] b = [[4.6176724]]\n",
      "Loss = 0.33562574\n",
      "Step #175 A = [[0.9846181]] b = [[4.656186]]\n",
      "Loss = 0.22622757\n",
      "Step #180 A = [[0.94321734]] b = [[4.660196]]\n",
      "Loss = 0.3054097\n",
      "Step #185 A = [[0.94015807]] b = [[4.664652]]\n",
      "Loss = 0.22612576\n",
      "Step #190 A = [[0.9500263]] b = [[4.679718]]\n",
      "Loss = 0.1733057\n",
      "Step #195 A = [[0.92303807]] b = [[4.665619]]\n",
      "Loss = 0.17523363\n",
      "Step #200 A = [[0.9201997]] b = [[4.6827564]]\n",
      "Loss = 0.24504232\n",
      "Step #205 A = [[0.9185831]] b = [[4.6992116]]\n",
      "Loss = 0.18267874\n",
      "Step #210 A = [[0.9412901]] b = [[4.707968]]\n",
      "Loss = 0.14611745\n",
      "Step #215 A = [[0.96597743]] b = [[4.7169857]]\n",
      "Loss = 0.13563846\n",
      "Step #220 A = [[0.9452017]] b = [[4.707774]]\n",
      "Loss = 0.36298305\n",
      "Step #225 A = [[0.93437415]] b = [[4.7122254]]\n",
      "Loss = 0.1246404\n",
      "Step #230 A = [[0.9175101]] b = [[4.7109795]]\n",
      "Loss = 0.21259764\n",
      "Step #235 A = [[0.8806411]] b = [[4.699627]]\n",
      "Loss = 0.20938483\n",
      "Step #240 A = [[0.9208519]] b = [[4.72823]]\n",
      "Loss = 0.2207079\n",
      "Step #245 A = [[0.92313564]] b = [[4.73097]]\n",
      "Loss = 0.2254433\n",
      "Step #250 A = [[0.90161145]] b = [[4.725516]]\n",
      "Loss = 0.23145312\n",
      "Step #255 A = [[0.92542917]] b = [[4.7400594]]\n",
      "Loss = 0.2061833\n",
      "Step #260 A = [[0.92033726]] b = [[4.7375197]]\n",
      "Loss = 0.18933049\n",
      "Step #265 A = [[0.93205154]] b = [[4.742758]]\n",
      "Loss = 0.12194824\n",
      "Step #270 A = [[0.92169774]] b = [[4.731551]]\n",
      "Loss = 0.25234234\n",
      "Step #275 A = [[0.9439911]] b = [[4.7443075]]\n",
      "Loss = 0.19152157\n",
      "Step #280 A = [[0.9426949]] b = [[4.74534]]\n",
      "Loss = 0.2390345\n",
      "Step #285 A = [[0.96592057]] b = [[4.756331]]\n",
      "Loss = 0.27408683\n",
      "Step #290 A = [[0.9004835]] b = [[4.7261453]]\n",
      "Loss = 0.19583969\n",
      "Step #295 A = [[0.9143353]] b = [[4.7551336]]\n",
      "Loss = 0.1764157\n",
      "Step #300 A = [[0.87957317]] b = [[4.731452]]\n",
      "Loss = 0.21614797\n",
      "Step #305 A = [[0.89966285]] b = [[4.7562385]]\n",
      "Loss = 0.27289048\n",
      "Step #310 A = [[0.9234001]] b = [[4.7759094]]\n",
      "Loss = 0.31430474\n",
      "Step #315 A = [[0.9019389]] b = [[4.75854]]\n",
      "Loss = 0.21450013\n",
      "Step #320 A = [[0.8909273]] b = [[4.750812]]\n",
      "Loss = 0.17909588\n",
      "Step #325 A = [[0.84601754]] b = [[4.7400746]]\n",
      "Loss = 0.27765274\n",
      "Step #330 A = [[0.86149734]] b = [[4.752682]]\n",
      "Loss = 0.16226795\n",
      "Step #335 A = [[0.8969063]] b = [[4.7826753]]\n",
      "Loss = 0.15004627\n",
      "Step #340 A = [[0.89705926]] b = [[4.7898]]\n",
      "Loss = 0.1479908\n",
      "Step #345 A = [[0.90196264]] b = [[4.7885327]]\n",
      "Loss = 0.22727747\n",
      "Step #350 A = [[0.87393576]] b = [[4.768902]]\n",
      "Loss = 0.20114917\n",
      "Step #355 A = [[0.86462736]] b = [[4.7759833]]\n",
      "Loss = 0.2528444\n",
      "Step #360 A = [[0.8579639]] b = [[4.7626157]]\n",
      "Loss = 0.19033962\n",
      "Step #365 A = [[0.90691155]] b = [[4.772652]]\n",
      "Loss = 0.297595\n",
      "Step #370 A = [[0.880739]] b = [[4.7535458]]\n",
      "Loss = 0.32670796\n",
      "Step #375 A = [[0.90737116]] b = [[4.762656]]\n",
      "Loss = 0.1796191\n",
      "Step #380 A = [[0.92555773]] b = [[4.780163]]\n",
      "Loss = 0.24711423\n",
      "Step #385 A = [[0.89700615]] b = [[4.752244]]\n",
      "Loss = 0.14069857\n",
      "Step #390 A = [[0.8814529]] b = [[4.7561584]]\n",
      "Loss = 0.20211744\n",
      "Step #395 A = [[0.89676535]] b = [[4.7703624]]\n",
      "Loss = 0.28824836\n",
      "Step #400 A = [[0.8759033]] b = [[4.7675047]]\n",
      "Loss = 0.18319115\n",
      "Step #405 A = [[0.8816906]] b = [[4.7710533]]\n",
      "Loss = 0.17368503\n",
      "Step #410 A = [[0.86453146]] b = [[4.765841]]\n",
      "Loss = 0.21427558\n",
      "Step #415 A = [[0.86678]] b = [[4.766983]]\n",
      "Loss = 0.2460123\n",
      "Step #420 A = [[0.8826175]] b = [[4.7844286]]\n",
      "Loss = 0.24904627\n",
      "Step #425 A = [[0.9055715]] b = [[4.797498]]\n",
      "Loss = 0.35975045\n",
      "Step #430 A = [[0.87378323]] b = [[4.785185]]\n",
      "Loss = 0.26864436\n",
      "Step #435 A = [[0.87283087]] b = [[4.7944293]]\n",
      "Loss = 0.33869952\n",
      "Step #440 A = [[0.9085044]] b = [[4.808331]]\n",
      "Loss = 0.09484748\n",
      "Step #445 A = [[0.9142659]] b = [[4.793389]]\n",
      "Loss = 0.26329547\n",
      "Step #450 A = [[0.8643612]] b = [[4.7555494]]\n",
      "Loss = 0.18601678\n",
      "Step #455 A = [[0.8412268]] b = [[4.7651215]]\n",
      "Loss = 0.19969295\n",
      "Step #460 A = [[0.8891791]] b = [[4.7909355]]\n",
      "Loss = 0.33595845\n",
      "Step #465 A = [[0.83644724]] b = [[4.757977]]\n",
      "Loss = 0.23071003\n",
      "Step #470 A = [[0.84358937]] b = [[4.7704415]]\n",
      "Loss = 0.055448137\n",
      "Step #475 A = [[0.83748853]] b = [[4.7673893]]\n",
      "Loss = 0.27902654\n",
      "Step #480 A = [[0.87120205]] b = [[4.785331]]\n",
      "Loss = 0.36811936\n",
      "Step #485 A = [[0.8542061]] b = [[4.7675395]]\n",
      "Loss = 0.2883203\n",
      "Step #490 A = [[0.8733365]] b = [[4.7704206]]\n",
      "Loss = 0.16520359\n",
      "Step #495 A = [[0.87196225]] b = [[4.7732935]]\n",
      "Loss = 0.21138383\n",
      "Step #500 A = [[0.8821504]] b = [[4.7698226]]\n",
      "Loss = 0.2244471\n",
      "Step #505 A = [[0.9033065]] b = [[4.787102]]\n",
      "Loss = 0.17298931\n",
      "Step #510 A = [[0.915476]] b = [[4.7854486]]\n",
      "Loss = 0.27771476\n",
      "Step #515 A = [[0.88643223]] b = [[4.772825]]\n",
      "Loss = 0.19074148\n",
      "Step #520 A = [[0.9045509]] b = [[4.8015485]]\n",
      "Loss = 0.15343201\n",
      "Step #525 A = [[0.90265524]] b = [[4.783047]]\n",
      "Loss = 0.28189301\n",
      "Step #530 A = [[0.8874017]] b = [[4.769366]]\n",
      "Loss = 0.16280842\n",
      "Step #535 A = [[0.8862593]] b = [[4.7648344]]\n",
      "Loss = 0.17487302\n",
      "Step #540 A = [[0.9284394]] b = [[4.7832007]]\n",
      "Loss = 0.1841342\n",
      "Step #545 A = [[0.8875423]] b = [[4.766125]]\n",
      "Loss = 0.27705723\n",
      "Step #550 A = [[0.8667484]] b = [[4.759414]]\n",
      "Loss = 0.16042657\n",
      "Step #555 A = [[0.8928679]] b = [[4.779116]]\n",
      "Loss = 0.24203487\n",
      "Step #560 A = [[0.88481355]] b = [[4.7793]]\n",
      "Loss = 0.15612274\n",
      "Step #565 A = [[0.9001208]] b = [[4.784148]]\n",
      "Loss = 0.23244809\n",
      "Step #570 A = [[0.89376473]] b = [[4.785765]]\n",
      "Loss = 0.16549997\n",
      "Step #575 A = [[0.9312343]] b = [[4.805544]]\n",
      "Loss = 0.27185687\n",
      "Step #580 A = [[0.89104515]] b = [[4.770049]]\n",
      "Loss = 0.17186728\n",
      "Step #585 A = [[0.8891253]] b = [[4.7619915]]\n",
      "Loss = 0.15777074\n",
      "Step #590 A = [[0.87894595]] b = [[4.7730875]]\n",
      "Loss = 0.31949177\n",
      "Step #595 A = [[0.89147]] b = [[4.76175]]\n",
      "Loss = 0.2660612\n",
      "Step #600 A = [[0.89060783]] b = [[4.7638288]]\n",
      "Loss = 0.20604336\n",
      "Step #605 A = [[0.88541573]] b = [[4.77019]]\n",
      "Loss = 0.27531657\n",
      "Step #610 A = [[0.89291734]] b = [[4.7666736]]\n",
      "Loss = 0.17510115\n",
      "Step #615 A = [[0.9110419]] b = [[4.774053]]\n",
      "Loss = 0.14019257\n",
      "Step #620 A = [[0.9121953]] b = [[4.7664447]]\n",
      "Loss = 0.23342714\n",
      "Step #625 A = [[0.8788782]] b = [[4.7519994]]\n",
      "Loss = 0.24296609\n",
      "Step #630 A = [[0.8922961]] b = [[4.782919]]\n",
      "Loss = 0.21376202\n",
      "Step #635 A = [[0.87216794]] b = [[4.77187]]\n",
      "Loss = 0.19966365\n",
      "Step #640 A = [[0.88787913]] b = [[4.7854276]]\n",
      "Loss = 0.26638842\n",
      "Step #645 A = [[0.8726244]] b = [[4.783462]]\n",
      "Loss = 0.19524737\n",
      "Step #650 A = [[0.8527886]] b = [[4.761355]]\n",
      "Loss = 0.15955573\n",
      "Step #655 A = [[0.8713388]] b = [[4.7703533]]\n",
      "Loss = 0.22292736\n",
      "Step #660 A = [[0.9211474]] b = [[4.7876883]]\n",
      "Loss = 0.19987053\n",
      "Step #665 A = [[0.93515974]] b = [[4.7805543]]\n",
      "Loss = 0.41594028\n"
     ]
    },
    {
     "name": "stdout",
     "output_type": "stream",
     "text": [
      "Step #670 A = [[0.9201937]] b = [[4.7771497]]\n",
      "Loss = 0.29447022\n",
      "Step #675 A = [[0.8881885]] b = [[4.7744656]]\n",
      "Loss = 0.2113747\n",
      "Step #680 A = [[0.84697425]] b = [[4.749317]]\n",
      "Loss = 0.32597065\n",
      "Step #685 A = [[0.9098681]] b = [[4.789983]]\n",
      "Loss = 0.20985642\n",
      "Step #690 A = [[0.8868884]] b = [[4.7708373]]\n",
      "Loss = 0.3118758\n",
      "Step #695 A = [[0.8900796]] b = [[4.787586]]\n",
      "Loss = 0.3816402\n",
      "Step #700 A = [[0.8681178]] b = [[4.7710867]]\n",
      "Loss = 0.13412198\n",
      "Step #705 A = [[0.87462324]] b = [[4.7801533]]\n",
      "Loss = 0.14429598\n",
      "Step #710 A = [[0.8824473]] b = [[4.8002305]]\n",
      "Loss = 0.2039641\n",
      "Step #715 A = [[0.89062136]] b = [[4.7951455]]\n",
      "Loss = 0.28199953\n",
      "Step #720 A = [[0.86931306]] b = [[4.7879252]]\n",
      "Loss = 0.28336942\n",
      "Step #725 A = [[0.84913313]] b = [[4.7761908]]\n",
      "Loss = 0.1972466\n",
      "Step #730 A = [[0.88154256]] b = [[4.7928023]]\n",
      "Loss = 0.23426275\n",
      "Step #735 A = [[0.91377354]] b = [[4.7899704]]\n",
      "Loss = 0.36332527\n",
      "Step #740 A = [[0.85472256]] b = [[4.776852]]\n",
      "Loss = 0.20059639\n",
      "Step #745 A = [[0.89357036]] b = [[4.8066025]]\n",
      "Loss = 0.20588428\n",
      "Step #750 A = [[0.86096215]] b = [[4.7826242]]\n",
      "Loss = 0.20361654\n",
      "Step #755 A = [[0.8822371]] b = [[4.7954216]]\n",
      "Loss = 0.37557602\n",
      "Step #760 A = [[0.9111819]] b = [[4.8049474]]\n",
      "Loss = 0.2200251\n",
      "Step #765 A = [[0.85775787]] b = [[4.754895]]\n",
      "Loss = 0.07663004\n",
      "Step #770 A = [[0.84736735]] b = [[4.752626]]\n",
      "Loss = 0.23661688\n",
      "Step #775 A = [[0.8584771]] b = [[4.777143]]\n",
      "Loss = 0.23142551\n",
      "Step #780 A = [[0.88208807]] b = [[4.789426]]\n",
      "Loss = 0.17187925\n",
      "Step #785 A = [[0.83599114]] b = [[4.767149]]\n",
      "Loss = 0.10030716\n",
      "Step #790 A = [[0.87317437]] b = [[4.797108]]\n",
      "Loss = 0.18733318\n",
      "Step #795 A = [[0.90363437]] b = [[4.8044033]]\n",
      "Loss = 0.2075867\n",
      "Step #800 A = [[0.88771033]] b = [[4.784768]]\n",
      "Loss = 0.11476858\n",
      "Step #805 A = [[0.8527501]] b = [[4.7750616]]\n",
      "Loss = 0.15002961\n",
      "Step #810 A = [[0.845617]] b = [[4.7719707]]\n",
      "Loss = 0.18052082\n",
      "Step #815 A = [[0.90596557]] b = [[4.794521]]\n",
      "Loss = 0.23312949\n",
      "Step #820 A = [[0.8869397]] b = [[4.7860565]]\n",
      "Loss = 0.1647507\n",
      "Step #825 A = [[0.8772044]] b = [[4.770771]]\n",
      "Loss = 0.15974168\n",
      "Step #830 A = [[0.85266757]] b = [[4.7567897]]\n",
      "Loss = 0.18279381\n",
      "Step #835 A = [[0.8854684]] b = [[4.7800164]]\n",
      "Loss = 0.18020834\n",
      "Step #840 A = [[0.8994445]] b = [[4.79159]]\n",
      "Loss = 0.26118153\n",
      "Step #845 A = [[0.9007536]] b = [[4.7756553]]\n",
      "Loss = 0.26029614\n",
      "Step #850 A = [[0.9321854]] b = [[4.782925]]\n",
      "Loss = 0.27216676\n",
      "Step #855 A = [[0.90527534]] b = [[4.771215]]\n",
      "Loss = 0.12989785\n",
      "Step #860 A = [[0.8903376]] b = [[4.7506266]]\n",
      "Loss = 0.21603204\n",
      "Step #865 A = [[0.92171836]] b = [[4.7627234]]\n",
      "Loss = 0.19676761\n",
      "Step #870 A = [[0.8962197]] b = [[4.7427964]]\n",
      "Loss = 0.16859291\n",
      "Step #875 A = [[0.90495783]] b = [[4.748409]]\n",
      "Loss = 0.21981947\n",
      "Step #880 A = [[0.9164194]] b = [[4.764785]]\n",
      "Loss = 0.19918127\n",
      "Step #885 A = [[0.91644204]] b = [[4.77074]]\n",
      "Loss = 0.13059397\n",
      "Step #890 A = [[0.86845416]] b = [[4.7519336]]\n",
      "Loss = 0.17477289\n",
      "Step #895 A = [[0.91902]] b = [[4.7669916]]\n",
      "Loss = 0.0813215\n",
      "Step #900 A = [[0.93665755]] b = [[4.7808456]]\n",
      "Loss = 0.2080394\n",
      "Step #905 A = [[0.88964236]] b = [[4.762366]]\n",
      "Loss = 0.11258132\n",
      "Step #910 A = [[0.8541059]] b = [[4.7522206]]\n",
      "Loss = 0.31989968\n",
      "Step #915 A = [[0.88492405]] b = [[4.771914]]\n",
      "Loss = 0.25730652\n",
      "Step #920 A = [[0.925858]] b = [[4.7802]]\n",
      "Loss = 0.2934629\n",
      "Step #925 A = [[0.9140108]] b = [[4.773758]]\n",
      "Loss = 0.25090292\n",
      "Step #930 A = [[0.8976501]] b = [[4.7633386]]\n",
      "Loss = 0.20072156\n",
      "Step #935 A = [[0.91020757]] b = [[4.779053]]\n",
      "Loss = 0.23166882\n",
      "Step #940 A = [[0.88846886]] b = [[4.76829]]\n",
      "Loss = 0.17115697\n",
      "Step #945 A = [[0.9096926]] b = [[4.7723856]]\n",
      "Loss = 0.37757233\n",
      "Step #950 A = [[0.86688983]] b = [[4.765547]]\n",
      "Loss = 0.30241778\n",
      "Step #955 A = [[0.8898931]] b = [[4.7770243]]\n",
      "Loss = 0.30073726\n",
      "Step #960 A = [[0.8766063]] b = [[4.7580843]]\n",
      "Loss = 0.2564342\n",
      "Step #965 A = [[0.8733453]] b = [[4.7552557]]\n",
      "Loss = 0.214027\n",
      "Step #970 A = [[0.8660377]] b = [[4.7535205]]\n",
      "Loss = 0.24942507\n",
      "Step #975 A = [[0.8402564]] b = [[4.7493315]]\n",
      "Loss = 0.25577044\n",
      "Step #980 A = [[0.8983601]] b = [[4.769347]]\n",
      "Loss = 0.13888824\n",
      "Step #985 A = [[0.8848033]] b = [[4.7531157]]\n",
      "Loss = 0.28991792\n",
      "Step #990 A = [[0.95208603]] b = [[4.7880607]]\n",
      "Loss = 0.15171874\n",
      "Step #995 A = [[0.92966086]] b = [[4.7898307]]\n",
      "Loss = 0.34246653\n",
      "Step #1000 A = [[0.89940953]] b = [[4.772079]]\n",
      "Loss = 0.20469959\n"
     ]
    }
   ],
   "source": [
    "loss_data = []\n",
    "for i in range(1000):\n",
    "    rand_index = np.random.choice(len(x_vals),size = batch_size)\n",
    "    # Training data\n",
    "    rand_x = np.transpose([x_vals[rand_index]])\n",
    "    # Testing Data\n",
    "    rand_y = np.transpose([y_vals[rand_index]])\n",
    "    sess.run(train_step,feed_dict={y_target:rand_y, x_data:rand_x})\n",
    "    temp_loss = sess.run(loss, feed_dict={y_target:rand_y, x_data:rand_x})\n",
    "    loss_data.append(temp_loss)\n",
    "    if(i+1)%5 ==0:\n",
    "        print('Step #' + str(i+1) + ' A = ' + str(sess.run(A)) + ' b = ' + str(sess.run(b)))\n",
    "        print('Loss = ''' + str(temp_loss))"
   ]
  },
  {
   "cell_type": "code",
   "execution_count": 40,
   "metadata": {},
   "outputs": [
    {
     "data": {
      "image/png": "[encoded data removed]",
      "text/plain": [
       "<Figure size 432x288 with 1 Axes>"
      ]
     },
     "metadata": {
      "needs_background": "light"
     },
     "output_type": "display_data"
    }
   ],
   "source": [
    "plt.plot(loss_data, 'k-')\n",
    "plt.title(\"Gradient Loss per iteration\")\n",
    "plt.xlabel(\"Iterations\")\n",
    "plt.ylabel(\"L2 Loss\")\n",
    "plt.show()"
   ]
  },
  {
   "cell_type": "code",
   "execution_count": null,
   "metadata": {},
   "outputs": [],
   "source": []
  },
  {
   "cell_type": "code",
   "execution_count": null,
   "metadata": {},
   "outputs": [],
   "source": []
  }
 ],
 "metadata": {
  "kernelspec": {
   "display_name": "Python 3",
   "language": "python",
   "name": "python3"
  },
  "language_info": {
   "codemirror_mode": {
    "name": "ipython",
    "version": 3
   },
   "file_extension": ".py",
   "mimetype": "text/x-python",
   "name": "python",
   "nbconvert_exporter": "python",
   "pygments_lexer": "ipython3",
   "version": "3.7.3"
  }
 },
 "nbformat": 4,
 "nbformat_minor": 2
}
